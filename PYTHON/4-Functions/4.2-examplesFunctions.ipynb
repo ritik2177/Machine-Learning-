{
 "cells": [
  {
   "cell_type": "markdown",
   "id": "e3db4fa4",
   "metadata": {},
   "source": [
    "#### Functions examples"
   ]
  },
  {
   "cell_type": "code",
   "execution_count": 1,
   "id": "a6616103",
   "metadata": {},
   "outputs": [
    {
     "name": "stdout",
     "output_type": "stream",
     "text": [
      "77.0\n",
      "7.222222222222221\n"
     ]
    }
   ],
   "source": [
    "## temperature conversion\n",
    "\n",
    "def convert_temperature(temp, unit):\n",
    "    if(unit=='C'):\n",
    "        return temp*9/5+ 32         ## celsius to fahrenheit\n",
    "    elif unit=='F':\n",
    "        return (temp-32*5/9)        ## fahrenheit to celsius\n",
    "\n",
    "print(convert_temperature(25, 'C'))\n",
    "print(convert_temperature(25, 'F'))\n",
    "\n"
   ]
  },
  {
   "cell_type": "code",
   "execution_count": 1,
   "id": "4e295c40",
   "metadata": {},
   "outputs": [
    {
     "name": "stdout",
     "output_type": "stream",
     "text": [
      "False\n",
      "True\n"
     ]
    }
   ],
   "source": [
    "## password strength checker\n",
    "\n",
    "def is_strong_password(password):\n",
    "    if len(password)<8:\n",
    "        return False\n",
    "    if not any(char.isdigit() for char in password):\n",
    "        return False\n",
    "    if not any(char.islower for char in password):\n",
    "        return False\n",
    "    if not any(char.isupper() for char in password):\n",
    "        return False\n",
    "    if not any(char in '!@$%^&*()_+' for char in password):\n",
    "        return False\n",
    "    return True\n",
    "## calling the function \n",
    "print(is_strong_password(\"WeakPwd\"))\n",
    "print(is_strong_password(\"Str0ngPwd!\"))"
   ]
  },
  {
   "cell_type": "code",
   "execution_count": null,
   "id": "63eb774d",
   "metadata": {},
   "outputs": [],
   "source": []
  }
 ],
 "metadata": {
  "kernelspec": {
   "display_name": "Python 3",
   "language": "python",
   "name": "python3"
  },
  "language_info": {
   "codemirror_mode": {
    "name": "ipython",
    "version": 3
   },
   "file_extension": ".py",
   "mimetype": "text/x-python",
   "name": "python",
   "nbconvert_exporter": "python",
   "pygments_lexer": "ipython3",
   "version": "3.12.0"
  }
 },
 "nbformat": 4,
 "nbformat_minor": 5
}
