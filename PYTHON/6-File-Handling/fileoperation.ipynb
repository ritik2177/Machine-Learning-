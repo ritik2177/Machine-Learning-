{
 "cells": [
  {
   "cell_type": "markdown",
   "id": "835e6e4e",
   "metadata": {},
   "source": [
    "#### File Operatiion-Read And Write Files\n",
    "File handling is a crucial part of any programming language. Python provides built in functions and methods to read from and wrtie to files, both text and binary. This lesson will cover the basics of tile handlind, including reading and writing text files and binary files."
   ]
  },
  {
   "cell_type": "code",
   "execution_count": 1,
   "id": "5093fefa",
   "metadata": {},
   "outputs": [
    {
     "name": "stdout",
     "output_type": "stream",
     "text": [
      "Hello how are you ?\n",
      "I am good\n",
      "Ritik is my name\n",
      "welcome in python course..\n"
     ]
    }
   ],
   "source": [
    "### Read a whole file\n",
    "\n",
    "with open('example.txt','r') as file:\n",
    "    content=file.read()\n",
    "    print(content)"
   ]
  },
  {
   "cell_type": "code",
   "execution_count": 3,
   "id": "d7cd4bd4",
   "metadata": {},
   "outputs": [
    {
     "name": "stdout",
     "output_type": "stream",
     "text": [
      "Hello how are you ?\n",
      "I am good\n",
      "Ritik is my name\n",
      "welcome in python course..\n"
     ]
    }
   ],
   "source": [
    "## Read a file line by line\n",
    "with open('example.txt') as file:\n",
    "    for line in file:\n",
    "        print(line.strip())         ## .strip() remove the newline character"
   ]
  },
  {
   "cell_type": "code",
   "execution_count": 8,
   "id": "43917ab8",
   "metadata": {},
   "outputs": [],
   "source": [
    "## writing a file(Overwriting)\n",
    "\n",
    "with open('example.txt', 'w') as file:\n",
    "    file.write('Hello World!\\n')    \n",
    "    file.write('this is a new line.\\n')"
   ]
  },
  {
   "cell_type": "code",
   "execution_count": 12,
   "id": "7ab051dc",
   "metadata": {},
   "outputs": [],
   "source": [
    "## Write a file (without overwirting)\n",
    "with open('example.txt', 'a') as file:\n",
    "    file.write(\"Append operation taking palce\\n\")"
   ]
  },
  {
   "cell_type": "code",
   "execution_count": null,
   "id": "ce2b14d9",
   "metadata": {},
   "outputs": [],
   "source": [
    "## Writing a list of lines to a file\n",
    "lines=['First line \\n', 'second line\\n', 'Third line\\n']\n",
    "with open('example.txt', 'a') as file:\n",
    "    file.writelines(lines)"
   ]
  },
  {
   "cell_type": "markdown",
   "id": "a6e3fcbb",
   "metadata": {},
   "source": [
    "##### Binary Files"
   ]
  },
  {
   "cell_type": "code",
   "execution_count": 1,
   "id": "57fe8216",
   "metadata": {},
   "outputs": [],
   "source": [
    "## Binary files\n",
    "\n",
    "# Writing to a binary file\n",
    "data = b'\\x00\\x01\\x02\\x03\\x04'\n",
    "with open('example.bin', 'wb') as file:\n",
    "    file.write(data)"
   ]
  },
  {
   "cell_type": "code",
   "execution_count": 2,
   "id": "a52d350f",
   "metadata": {},
   "outputs": [
    {
     "name": "stdout",
     "output_type": "stream",
     "text": [
      "b'\\x00\\x01\\x02\\x03\\x04'\n"
     ]
    }
   ],
   "source": [
    "# Reading a binary file\n",
    "with open('example.bin', 'rb') as file:\n",
    "    content = file.read()\n",
    "    print(content)"
   ]
  },
  {
   "cell_type": "code",
   "execution_count": 3,
   "id": "5ea4b42f",
   "metadata": {},
   "outputs": [],
   "source": [
    "##  Read the content from souce text file and write to a destination text file\n",
    "# copying a text file\n",
    "with open('example.txt', 'r') as source_file:\n",
    "    content = source_file.read()\n",
    "\n",
    "with open('destination.txt', 'w') as destination_file:\n",
    "    destination_file.write(content)\n"
   ]
  },
  {
   "cell_type": "code",
   "execution_count": 4,
   "id": "d945273e",
   "metadata": {},
   "outputs": [
    {
     "name": "stdout",
     "output_type": "stream",
     "text": [
      "lines: 7, words: 27, characters: 186\n"
     ]
    }
   ],
   "source": [
    "# Read a text file and count the number of lines, words, and characters.\n",
    "# Counting lines, words, and characters in a text file\n",
    "\n",
    "def count_text_file(file_path):\n",
    "    with open(file_path, 'r') as file:\n",
    "        lines = file.readlines()\n",
    "        line_count = len(lines)\n",
    "        word_count = sum(len(line.split()) for line in lines)\n",
    "        char_count = sum(len(line) for line in lines)\n",
    "    return line_count, word_count, char_count\n",
    "\n",
    "file_path = 'example.txt'\n",
    "lines, words, characters = count_text_file(file_path)\n",
    "print(f\"lines: {lines}, words: {words}, characters: {characters}\")"
   ]
  },
  {
   "cell_type": "code",
   "execution_count": 8,
   "id": "4ee65a61",
   "metadata": {},
   "outputs": [
    {
     "name": "stdout",
     "output_type": "stream",
     "text": [
      "hello world\n",
      "This is a new line\n",
      "\n"
     ]
    }
   ],
   "source": [
    "## writing and then reading a file\n",
    "\n",
    "with open('example.txt', 'w+') as file:\n",
    "    file.write(\"hello world\\n\")\n",
    "    file.write(\"This is a new line\\n\")\n",
    "    ## Move the file cursor to  the beginning\n",
    "    file.seek(0)\n",
    "    ## Read the content of the file\n",
    "    content = file.read()\n",
    "    print(content)"
   ]
  },
  {
   "cell_type": "code",
   "execution_count": null,
   "id": "732e809d",
   "metadata": {},
   "outputs": [],
   "source": []
  }
 ],
 "metadata": {
  "kernelspec": {
   "display_name": "Python 3",
   "language": "python",
   "name": "python3"
  },
  "language_info": {
   "codemirror_mode": {
    "name": "ipython",
    "version": 3
   },
   "file_extension": ".py",
   "mimetype": "text/x-python",
   "name": "python",
   "nbconvert_exporter": "python",
   "pygments_lexer": "ipython3",
   "version": "3.12.0"
  }
 },
 "nbformat": 4,
 "nbformat_minor": 5
}
