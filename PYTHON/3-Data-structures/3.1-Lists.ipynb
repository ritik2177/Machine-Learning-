{
 "cells": [
  {
   "cell_type": "markdown",
   "id": "ceca1572",
   "metadata": {},
   "source": [
    "### Introduction To Lists"
   ]
  },
  {
   "cell_type": "markdown",
   "id": "bf4a24ed",
   "metadata": {},
   "source": [
    "* Lists are ordered, mutable collections of items.\n",
    "* They can contain items of different data types."
   ]
  },
  {
   "cell_type": "code",
   "execution_count": 1,
   "id": "0b05ec6a",
   "metadata": {},
   "outputs": [
    {
     "name": "stdout",
     "output_type": "stream",
     "text": [
      "<class 'list'>\n"
     ]
    }
   ],
   "source": [
    "lst=[]\n",
    "print(type(lst))"
   ]
  },
  {
   "cell_type": "code",
   "execution_count": 2,
   "id": "13ca379d",
   "metadata": {},
   "outputs": [
    {
     "name": "stdout",
     "output_type": "stream",
     "text": [
      "['Ritik', 'Ravi', 'jacob', 1, 2, 3, 4, 5, 6]\n"
     ]
    }
   ],
   "source": [
    "names=[\"Ritik\", \"Ravi\", \"jacob\", 1,2,3,4,5,6]\n",
    "print(names)"
   ]
  },
  {
   "cell_type": "code",
   "execution_count": 1,
   "id": "1cc8cb00",
   "metadata": {},
   "outputs": [
    {
     "name": "stdout",
     "output_type": "stream",
     "text": [
      "[1, 'Hello', 3.14, True]\n"
     ]
    }
   ],
   "source": [
    "mixed_list=[1, \"Hello\", 3.14, True]\n",
    "print(mixed_list)"
   ]
  },
  {
   "cell_type": "code",
   "execution_count": 2,
   "id": "a02e0209",
   "metadata": {},
   "outputs": [],
   "source": [
    "## Accessing List Elements\n",
    "\n",
    "fruits=[\"apple\", \"banana\", \"cherry\", \"kiwi\", \"gauva\"]"
   ]
  },
  {
   "cell_type": "code",
   "execution_count": null,
   "id": "9c172077",
   "metadata": {},
   "outputs": [
    {
     "name": "stdout",
     "output_type": "stream",
     "text": [
      "apple\n",
      "cherry\n",
      "gauva\n",
      "gauva\n"
     ]
    }
   ],
   "source": [
    "print(fruits[0])\n",
    "print(fruits[2])\n",
    "print(fruits[4])\n",
    "print(fruits[-1])"
   ]
  },
  {
   "cell_type": "code",
   "execution_count": 8,
   "id": "8980890f",
   "metadata": {},
   "outputs": [
    {
     "name": "stdout",
     "output_type": "stream",
     "text": [
      "['banana', 'cherry', 'kiwi', 'gauva']\n",
      "['banana', 'cherry']\n",
      "[]\n"
     ]
    }
   ],
   "source": [
    "print(fruits[1:])\n",
    "print(fruits[1:3])\n",
    "print(fruits[-1:-3])"
   ]
  },
  {
   "cell_type": "code",
   "execution_count": null,
   "id": "52155417",
   "metadata": {},
   "outputs": [],
   "source": []
  }
 ],
 "metadata": {
  "kernelspec": {
   "display_name": "Python 3",
   "language": "python",
   "name": "python3"
  },
  "language_info": {
   "codemirror_mode": {
    "name": "ipython",
    "version": 3
   },
   "file_extension": ".py",
   "mimetype": "text/x-python",
   "name": "python",
   "nbconvert_exporter": "python",
   "pygments_lexer": "ipython3",
   "version": "3.12.0"
  }
 },
 "nbformat": 4,
 "nbformat_minor": 5
}
