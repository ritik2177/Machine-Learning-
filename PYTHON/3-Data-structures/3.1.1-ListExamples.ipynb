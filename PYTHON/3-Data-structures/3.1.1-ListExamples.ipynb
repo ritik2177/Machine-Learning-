{
 "cells": [
  {
   "cell_type": "markdown",
   "id": "91fec9c5",
   "metadata": {},
   "source": [
    "##### Real World Exapmle Using Lists in Python\n",
    "\n",
    "List are one of the most commonly used data structures in Python, thanks to their versatillity and ease of use. \n",
    "Here are several practical examples that illustrate their use in real world scenarios"
   ]
  },
  {
   "cell_type": "markdown",
   "id": "76588e08",
   "metadata": {},
   "source": [
    "##### Example 1. Manage A To Do List\n",
    "* Create a Todo List to keep track of Tasks"
   ]
  },
  {
   "cell_type": "code",
   "execution_count": 1,
   "id": "e33c2333",
   "metadata": {},
   "outputs": [
    {
     "name": "stdout",
     "output_type": "stream",
     "text": [
      "Don't forget to pay the utility bills\n",
      "To Do List remaining\n",
      "-Buy Groceries\n",
      "-pay bills\n",
      "-Schedule meeting\n",
      "-Go for a run\n"
     ]
    }
   ],
   "source": [
    "to_do_list=[\"Buy Groceries\", \"Clean the house\", \"pay bills\"]\n",
    "\n",
    "## Adding to task\n",
    "to_do_list.append(\"Schedule meeting\")\n",
    "to_do_list.append(\"Go for a run\")\n",
    "\n",
    "# Removing a completed task\n",
    "to_do_list.remove(\"Clean the house\")\n",
    "\n",
    "## checking if a task is in the list\n",
    "if \"pay bills\" in to_do_list:\n",
    "    print(\"Don't forget to pay the utility bills\")\n",
    "\n",
    "print(\"To Do List remaining\")\n",
    "for task in to_do_list:\n",
    "    print(f\"-{task}\")"
   ]
  }
 ],
 "metadata": {
  "kernelspec": {
   "display_name": "Python 3",
   "language": "python",
   "name": "python3"
  },
  "language_info": {
   "codemirror_mode": {
    "name": "ipython",
    "version": 3
   },
   "file_extension": ".py",
   "mimetype": "text/x-python",
   "name": "python",
   "nbconvert_exporter": "python",
   "pygments_lexer": "ipython3",
   "version": "3.12.0"
  }
 },
 "nbformat": 4,
 "nbformat_minor": 5
}
