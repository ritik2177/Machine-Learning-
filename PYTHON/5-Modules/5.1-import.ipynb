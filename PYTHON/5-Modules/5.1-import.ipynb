{
 "cells": [
  {
   "cell_type": "markdown",
   "id": "905c7c1b",
   "metadata": {},
   "source": [
    "#### Import  Modules in Python: Modules and Packages\n",
    "In Python, modules and packages hepl organize and reuse code. Here's comprehensive guide on how to import then."
   ]
  },
  {
   "cell_type": "code",
   "execution_count": null,
   "id": "976f971b",
   "metadata": {},
   "outputs": [],
   "source": []
  }
 ],
 "metadata": {
  "kernelspec": {
   "display_name": "Python 3",
   "language": "python",
   "name": "python3"
  },
  "language_info": {
   "name": "python",
   "version": "3.12.0"
  }
 },
 "nbformat": 4,
 "nbformat_minor": 5
}
